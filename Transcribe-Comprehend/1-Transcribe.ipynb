{
 "cells": [
  {
   "cell_type": "markdown",
   "metadata": {},
   "source": [
    "# Transcribe"
   ]
  },
  {
   "cell_type": "markdown",
   "metadata": {},
   "source": [
    "## 1. Package 설치\n",
    "\n",
    "---------------------------------------"
   ]
  },
  {
   "cell_type": "code",
   "execution_count": null,
   "metadata": {},
   "outputs": [],
   "source": [
    "%load_ext autoreload\n",
    "%autoreload 2\n",
    "\n",
    "# External Dependencies:\n",
    "import time\n",
    "import boto3\n",
    "import json\n",
    "import pandas as pd\n",
    "import util.xer_py3 as xer\n",
    "import IPython.display as ipd\n",
    "\n",
    "transcribe = boto3.client('transcribe')\n",
    "s3 = boto3.resource('s3')"
   ]
  },
  {
   "cell_type": "markdown",
   "metadata": {},
   "source": [
    "## 2. 환경 설정\n",
    "\n",
    "---------------------------------------"
   ]
  },
  {
   "cell_type": "code",
   "execution_count": null,
   "metadata": {},
   "outputs": [],
   "source": [
    "## 실험\n",
    "job_name = \"XXXXXXX\"  ## Job 이름\n",
    "\n",
    "bucket_name ='transcribe-comprehend-demo-test-XXX'  ## CloudFormation의 ouput에서 나온 S3Bucket\n",
    "prefix = 'XXXXXXX' ## S3 bucket 내 음성파일을 upload 한 폴더 명\n",
    "media_filename = 'XXXXXXX.wav'  ##  wav | flac | mp3 | mp4 \n",
    "\n",
    "MediaFileUri = \"s3://{}/{}/{}\".format(bucket_name, prefix, media_filename)\n",
    "OutputBucketName = bucket_name\n",
    "MediaFormat = media_filename.split('.')[1]\n",
    "\n",
    "%store bucket_name"
   ]
  },
  {
   "cell_type": "markdown",
   "metadata": {},
   "source": [
    "## 3. Transcribe 시작\n",
    "\n",
    "---------------------------------------\n",
    "\n",
    " - **MediaFileUri** : S3 내 미디어 파일 위치\n",
    " - **MediaSampleRateHertz** : 입력 파일 RateHertz 설정, 미설정 시 자동 인식\n",
    " - **MediaFormat** : 'mp3'|'mp4'|'wav'|'flac'\n",
    " - **LanguageCode** : ko-KR 언어 설정\n",
    " - **OutputBucketName** : output 버킷 설정, 미설정 시 Service managed S3 bucket에 저장 90일 내 삭제 (job 이 삭제 되기 때문임)\n",
    " - **Settings** :\n",
    "    > **VocabularyName** : 고객 단어 사전 (사전 등록 필요)   \n",
    "    > **VocabularyFilterName** : 삭제가 필요한 단어 (사전 등록 필요)   \n",
    "    > **VocabularyFilterMethod** : remove (삭제) | mask (```***``` 로 대체)   \n",
    "    > **ShowAlternatives** : 대체 단어 추천 유무 (True|False)  \n",
    "    > **MaxAlternatives** : 대체 단어 추천 수 (2~ 10까지 가능)  \n",
    "\n",
    "    > 하나만 선택 가능\n",
    "    > 1. 화자 식별\n",
    "    >     > **ShowSpeakerLabels** : True | False   \n",
    "    >     > **MaxSpeakerLabels** : 최대 식별 화자 수 ( 2~ 10까지 가능)\n",
    "    > 2. 채널 식별\n",
    "    >     > **ChannelIdentification** : True | False  \n",
    "\n",
    "<img src=\"./images/transcribe_할당량.png\" width=\"600\" height=\"400\">\n",
    "\n",
    "\n",
    "---------------------------------------\n"
   ]
  },
  {
   "cell_type": "code",
   "execution_count": null,
   "metadata": {},
   "outputs": [],
   "source": [
    "try:\n",
    "    transcribe.delete_transcription_job(TranscriptionJobName=job_name)\n",
    "except:\n",
    "    pass"
   ]
  },
  {
   "cell_type": "code",
   "execution_count": null,
   "metadata": {},
   "outputs": [],
   "source": [
    "%%time\n",
    "transcribe.start_transcription_job(\n",
    "    TranscriptionJobName=job_name,\n",
    "    Media={'MediaFileUri': MediaFileUri},\n",
    "#     MediaSampleRateHertz=44100,\n",
    "    MediaFormat=MediaFormat,\n",
    "    LanguageCode='ko-KR', ## en-US, ko-KR\n",
    "    OutputBucketName=OutputBucketName,\n",
    "    Settings={\n",
    "#         'VocabularyName': 'custom_vocabulary', \n",
    "#         'ShowSpeakerLabels': True,\n",
    "#         'MaxSpeakerLabels': 2,\n",
    "#         'ChannelIdentification': True,\n",
    "#         'ShowAlternatives': True,\n",
    "#         'MaxAlternatives': 3,\n",
    "#         'VocabularyFilterName': 'test-remove-voca',\n",
    "#         'VocabularyFilterMethod': 'mask'\n",
    "    },\n",
    "#     ContentRedaction={\n",
    "#         'RedactionType': 'PII',\n",
    "#         'RedactionOutput': 'redacted'|'redacted_and_unredacted'\n",
    "#     }\n",
    ")\n",
    "\n",
    "while True:\n",
    "    status = transcribe.get_transcription_job(TranscriptionJobName=job_name)\n",
    "    if status['TranscriptionJob']['TranscriptionJobStatus'] in ['COMPLETED', 'FAILED']:\n",
    "        break\n",
    "    print(\"Not ready yet...\")\n",
    "    time.sleep(5)\n",
    "print(status)"
   ]
  },
  {
   "cell_type": "markdown",
   "metadata": {},
   "source": [
    "## 4. 결과 확인\n",
    "\n",
    "---------------------------------------"
   ]
  },
  {
   "cell_type": "code",
   "execution_count": null,
   "metadata": {},
   "outputs": [],
   "source": [
    "response = transcribe.get_transcription_job(\n",
    "    TranscriptionJobName=job_name\n",
    ")\n",
    "print(response)"
   ]
  },
  {
   "cell_type": "markdown",
   "metadata": {},
   "source": [
    "### Output json 파일 정보"
   ]
  },
  {
   "cell_type": "code",
   "execution_count": null,
   "metadata": {},
   "outputs": [],
   "source": [
    "res = response['TranscriptionJob']['Transcript']['TranscriptFileUri']"
   ]
  },
  {
   "cell_type": "code",
   "execution_count": null,
   "metadata": {},
   "outputs": [],
   "source": [
    "tmp=res.split('/')\n",
    "bucket = tmp[3]\n",
    "output_filename = tmp[4]\n",
    "output_path = './output/' + output_filename\n",
    "print(\"bucket : {}, output_filename : {}, output_path : {}\".format(bucket, output_filename, output_path))"
   ]
  },
  {
   "cell_type": "markdown",
   "metadata": {},
   "source": [
    "### From S3 파일 to SageMaker Notebook 복사"
   ]
  },
  {
   "cell_type": "code",
   "execution_count": null,
   "metadata": {},
   "outputs": [],
   "source": [
    "s3.Object(bucket, output_filename).download_file(output_path)"
   ]
  },
  {
   "cell_type": "code",
   "execution_count": null,
   "metadata": {},
   "outputs": [],
   "source": [
    "with open(output_path, 'rt', encoding='UTF8') as f:\n",
    "    print(f)\n",
    "    content = json.load(f)\n",
    "print(content)"
   ]
  },
  {
   "cell_type": "markdown",
   "metadata": {},
   "source": [
    "### STT 결과"
   ]
  },
  {
   "cell_type": "code",
   "execution_count": null,
   "metadata": {
    "scrolled": true
   },
   "outputs": [],
   "source": [
    "result = content['results']\n",
    "res_item = list(result.keys())\n",
    "transcript = result['transcripts'][0]['transcript']\n",
    "print(transcript)"
   ]
  },
  {
   "cell_type": "markdown",
   "metadata": {},
   "source": [
    "### 결과 상세 확인"
   ]
  },
  {
   "cell_type": "code",
   "execution_count": null,
   "metadata": {},
   "outputs": [],
   "source": [
    "full_items = []\n",
    "items =result['items']\n",
    "\n",
    "for item in items:\n",
    "    if 'start_time' in item:\n",
    "        start_time = item['start_time']\n",
    "        end_time = item['end_time']\n",
    "        full_items.append([start_time, end_time, item['alternatives'][0]['content'], item['alternatives'][0]['confidence']])\n",
    "    else:\n",
    "        full_items.append([end_time,end_time,item['alternatives'][0]['content'],item['alternatives'][0]['confidence']])\n",
    "\n",
    "df = pd.DataFrame(full_items, columns=['start_time', 'end_time', 'content', 'confidence']) \n",
    "\n",
    "## 동일 결과 삭제\n",
    "df = df.drop_duplicates()\n",
    "df = df.drop_duplicates(['start_time','content','confidence'], keep='first')\n",
    "\n",
    "df['start_time'] = df['start_time'].astype('float')\n",
    "df['end_time'] = df['end_time'].astype('float')\n",
    "\n",
    "df=df.sort_values(by='start_time')\n",
    "df"
   ]
  },
  {
   "cell_type": "markdown",
   "metadata": {},
   "source": [
    "### 화자 결과 확인 (optional)"
   ]
  },
  {
   "cell_type": "code",
   "execution_count": null,
   "metadata": {},
   "outputs": [],
   "source": [
    "speaker_flag = 'speaker_labels' in res_item\n",
    "\n",
    "if speaker_flag:\n",
    "    speakers = result['speaker_labels']['speakers']\n",
    "    speaker_seg = content['results']['speaker_labels']['segments']\n",
    "    speaker_labels = []\n",
    "    for seg in speaker_seg:\n",
    "        for seg_item in seg['items']:\n",
    "            speaker_labels.append([seg_item['start_time'], seg_item['speaker_label'], seg_item['end_time']])\n",
    "\n",
    "    df_speak_labels = pd.DataFrame(speaker_labels, columns=['start_time','speaker_label','end_time'])\n",
    "    df_speak_labels['start_time'] = df_speak_labels['start_time'].astype('float')\n",
    "    df_speak_labels['end_time'] = df_speak_labels['end_time'].astype('float')"
   ]
  },
  {
   "cell_type": "code",
   "execution_count": null,
   "metadata": {},
   "outputs": [],
   "source": [
    "if 'segments' in res_item:\n",
    "    segments= result['segments']"
   ]
  },
  {
   "cell_type": "code",
   "execution_count": null,
   "metadata": {},
   "outputs": [],
   "source": [
    "if speaker_flag:\n",
    "    df_result = pd.merge(df, df_speak_labels, on=['start_time', 'end_time'], how='outer')\n",
    "    df_result['speaker_label'].fillna(\"Punc\", inplace=True)\n",
    "else:\n",
    "    df_result= df\n",
    "df_result"
   ]
  },
  {
   "cell_type": "code",
   "execution_count": null,
   "metadata": {},
   "outputs": [],
   "source": [
    "# out = None\n",
    "# if speaker_flag:\n",
    "#     out = df_result[df_result['speaker_label']=='spk_0']\n",
    "# out"
   ]
  },
  {
   "cell_type": "code",
   "execution_count": null,
   "metadata": {
    "scrolled": false
   },
   "outputs": [],
   "source": [
    "# sentence = ''\n",
    "# for i in range(0, df_result.shape[0]):\n",
    "#     tmp = str(df_result.iloc[i][2]) + \\\n",
    "#     '[' + str(df_result.iloc[i][3]) + '] '\n",
    "#     if speaker_flag:\n",
    "#         tmp += '[' + str(df_result.iloc[i][4]) + '] '\n",
    "        \n",
    "#     sentence += tmp\n",
    "# print(sentence)"
   ]
  },
  {
   "cell_type": "code",
   "execution_count": null,
   "metadata": {},
   "outputs": [],
   "source": [
    "sentence = ''\n",
    "pre_speaker = ''\n",
    "for i in range(0, df_result.shape[0]):\n",
    "    tmp = ''\n",
    "    if speaker_flag:\n",
    "        if df_result.iloc[i][4] not in [pre_speaker,'Punc']:\n",
    "            tmp = '\\n' + str(df_result.iloc[i][4]) + ' : '\n",
    "        tmp += str(df_result.iloc[i][2]) +' '\n",
    "        if df_result.iloc[i][4] !='Punc':\n",
    "            pre_speaker = df_result.iloc[i][4]\n",
    "    sentence += tmp\n",
    "print(sentence)"
   ]
  },
  {
   "cell_type": "code",
   "execution_count": null,
   "metadata": {},
   "outputs": [],
   "source": [
    "print(transcript)\n",
    "%store transcript"
   ]
  },
  {
   "cell_type": "markdown",
   "metadata": {},
   "source": [
    "## 5. 결과 확인\n",
    "-------------------------------"
   ]
  },
  {
   "cell_type": "code",
   "execution_count": null,
   "metadata": {},
   "outputs": [],
   "source": [
    "gt =\"그녀의 사랑을 얻기 위해 애썼지만 헛수고였다.용돈을 아껴 써라.그는 아내를 많이 아낀다.그 애 전화번호 알아?차에 대해 잘 아세요?거기 도착하면 나한테 알려 줘.그들은 내가 시험에 떨어졌다고 알려 왔다.나는 살아오면서 감기를 앓은 적이 한 번도 없다.사흘 동안 심하게 몸살을 앓았어요.요즘 공부가 안돼요.\""
   ]
  },
  {
   "cell_type": "code",
   "execution_count": null,
   "metadata": {},
   "outputs": [],
   "source": [
    "transcript"
   ]
  },
  {
   "cell_type": "code",
   "execution_count": null,
   "metadata": {},
   "outputs": [],
   "source": [
    "xer.measure(transcript, gt)"
   ]
  },
  {
   "cell_type": "code",
   "execution_count": null,
   "metadata": {},
   "outputs": [],
   "source": []
  },
  {
   "cell_type": "code",
   "execution_count": null,
   "metadata": {},
   "outputs": [],
   "source": []
  },
  {
   "cell_type": "markdown",
   "metadata": {},
   "source": [
    "## 6. 결과 개선\n",
    "-------------------------------"
   ]
  },
  {
   "cell_type": "markdown",
   "metadata": {},
   "source": [
    " - PCM 16비트로 녹음된 무손실 형식(예: FLAC 또는 WAV)을 사용합니다.\n",
    " - 저품질 오디오에는 8000Hz를 사용하고 고품질 오디오에는 16000Hz를 사용합니다.\n",
    "\n",
    "2가지 방식으로 결과 개선이 가능합니다.\n",
    " - Custom vocabulary 생성  \n",
    " > - 도메인 특화 단어, 구, 단어 생성 가능  \n",
    " > - account 당 100 개 vocabulary 까지 가능  \n",
    " > - 사이즈는 최대 50KB 가능\n",
    " > - 단어 리스트로 추가하거나, 테이블 방식으로 추가 가능\n",
    " \n",
    " - Vocabulary filtering 생성  \n",
    " > - 마스크 또는 제거 방식 둘 중 선택 가능\n",
    " > - 사이즈는 최대 50KB 가능  "
   ]
  },
  {
   "cell_type": "markdown",
   "metadata": {},
   "source": [
    "### Custom vocabulary 생성\n",
    "--------------------------\n",
    "각 단어를 한 줄씩 배치하거나 단어나 구절을 쉼표로 서로 분리하여 한 줄에 여러 단어를 배치할 수도 있습니다.\n",
    "각 항목은 다음과 같이 구성되어야 합니다.\n",
    "- 특정 단어 또는 구절을 대상으로 사용하기에 가장 적합\n",
    "- 256자 미만(하이픈 포함)\n",
    "- 허용되는 문자 집합의 문자만 가능 (한국어 가능)\n",
    "- 계정당 최대 100개의 어휘 보유 가능\n",
    "- 사용자 지정 어휘의 크기 한도는 50Kb\n",
    "> Los-Angeles  \n",
    "> F.B.I.  \n",
    "> Etienne  \n",
    "\n",
    "  > Los-Angeles, F.B.I., Etienne"
   ]
  },
  {
   "cell_type": "code",
   "execution_count": null,
   "metadata": {
    "scrolled": true
   },
   "outputs": [],
   "source": [
    "add_voca = transcribe.create_vocabulary(\n",
    "    VocabularyName='XXXXXXX', ## Custom Vocabulary 이름 (case-sensitive)\n",
    "    LanguageCode='ko-KR',  ## 'ko-KR' en-US\n",
    "    Phrases=[\n",
    "        '엘레', ## 예시\n",
    "        'XXX'\n",
    "    ],\n",
    ")"
   ]
  },
  {
   "cell_type": "markdown",
   "metadata": {},
   "source": [
    "### Vocabulary filtering 생성"
   ]
  },
  {
   "cell_type": "code",
   "execution_count": null,
   "metadata": {},
   "outputs": [],
   "source": [
    "remove_voca = transcribe.create_vocabulary_filter(\n",
    "    VocabularyFilterName='XXXXXX', \n",
    "    LanguageCode='ko-KR',\n",
    "    Words=[\n",
    "        '스포츠',  ## 예시\n",
    "    ],\n",
    "#     VocabularyFilterFileUri='string'\n",
    ")"
   ]
  },
  {
   "cell_type": "code",
   "execution_count": null,
   "metadata": {},
   "outputs": [],
   "source": []
  }
 ],
 "metadata": {
  "kernelspec": {
   "display_name": "conda_python3",
   "language": "python",
   "name": "conda_python3"
  },
  "language_info": {
   "codemirror_mode": {
    "name": "ipython",
    "version": 3
   },
   "file_extension": ".py",
   "mimetype": "text/x-python",
   "name": "python",
   "nbconvert_exporter": "python",
   "pygments_lexer": "ipython3",
   "version": "3.6.5"
  }
 },
 "nbformat": 4,
 "nbformat_minor": 2
}