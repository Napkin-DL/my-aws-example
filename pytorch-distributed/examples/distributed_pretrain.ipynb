{
 "cells": [
  {
   "cell_type": "markdown",
   "metadata": {},
   "source": [
    "source activate my-rdkit-env\n",
    "#### 코드 수정 후\n",
    "GENTRL 폴더에서 `python setup.py install` 수행"
   ]
  },
  {
   "cell_type": "code",
   "execution_count": null,
   "metadata": {},
   "outputs": [],
   "source": [
    "import gentrl\n",
    "import os\n",
    "\n",
    "import torch.distributed as dist\n",
    "from torch.multiprocessing import Process"
   ]
  },
  {
   "cell_type": "code",
   "execution_count": null,
   "metadata": {},
   "outputs": [],
   "source": [
    "from moses.metrics import mol_passes_filters, QED, SA, logP\n",
    "from moses.metrics.utils import get_n_rings, get_mol\n",
    "\n",
    "\n",
    "def get_num_rings_6(mol):\n",
    "    r = mol.GetRingInfo()\n",
    "    return len([x for x in r.AtomRings() if len(x) > 6])\n",
    "\n",
    "\n",
    "def penalized_logP(mol_or_smiles, masked=False, default=-5):\n",
    "    mol = get_mol(mol_or_smiles)\n",
    "    if mol is None:\n",
    "        return default\n",
    "    reward = logP(mol) - SA(mol) - get_num_rings_6(mol)\n",
    "    if masked and not mol_passes_filters(mol):\n",
    "        return default\n",
    "    return reward"
   ]
  },
  {
   "cell_type": "code",
   "execution_count": null,
   "metadata": {},
   "outputs": [],
   "source": [
    "def run(rank, size, backend, flag='vae'):\n",
    "    args = {}\n",
    "    args['rank'] = rank\n",
    "    args['size'] = size\n",
    "    args['backend'] = backend\n",
    "    args['batch_size'] = 2500\n",
    "    args['num_epochs'] = 2\n",
    "    args['verbose_step'] = 50\n",
    "    args['lr'] = 1e-4\n",
    "    args['hvd'] = True\n",
    "    args['data_dir'] = '../examples/train_plogp_plogpm.csv'\n",
    "    \n",
    "    args['apex'] = False\n",
    "    args['sync_bn'] = False\n",
    "    args['opt_level'] = 'O1'\n",
    "    args['keep_batchnorm_fp32'] = None\n",
    "    args['loss_scale'] = None\n",
    "        \n",
    "    if flag == 'vae':\n",
    "        print(\"Start Training VAE\")\n",
    "        gentrl.distributed_gentrl.train_as_vaelp(args)\n",
    "        print(\"End Training VAE\")\n",
    "    elif flag == 'rl':\n",
    "        args['reward_fn'] = penalized_logP\n",
    "        args['num_iterations'] = 5000  ## 10000*200/1500 = 1350\n",
    "        args['batch_size'] = 1500\n",
    "        args['cond_lb'] = -2\n",
    "        args['cond_rb'] = 0\n",
    "        args['lr_lp'] = 1e-5\n",
    "        args['lr_dec'] = 1e-6\n",
    "        print(\"Start Training RL\")\n",
    "        gentrl.distributed_gentrl.train_as_rl(args)\n",
    "        print(\"End Training RL\")\n",
    "    \n",
    "def init_process(rank, size, flag, fn, backend='nccl'):\n",
    "    \"\"\" Initialize the distributed environment. \"\"\"\n",
    "    os.environ['MASTER_ADDR'] = '127.0.0.1'\n",
    "    os.environ['MASTER_PORT'] = '29500'\n",
    "    dist.init_process_group(backend, rank=rank, world_size=size)\n",
    "    fn(rank, size, backend, flag)"
   ]
  },
  {
   "cell_type": "code",
   "execution_count": null,
   "metadata": {},
   "outputs": [],
   "source": [
    "# ! mkdir -p saved_gentrl_after_rl\n",
    "# ! mkdir -p saved_gentrl"
   ]
  },
  {
   "cell_type": "code",
   "execution_count": null,
   "metadata": {
    "scrolled": false
   },
   "outputs": [],
   "source": [
    "%%time\n",
    "size = 4\n",
    "flags = ['vae']\n",
    "\n",
    "for flag in flags:\n",
    "    processes = []\n",
    "    for rank in range(size):\n",
    "        p = Process(target=init_process, args=(rank, size, flag, run))\n",
    "        p.start()\n",
    "        processes.append(p)\n",
    "\n",
    "\n",
    "    for p in processes:\n",
    "        p.join()\n",
    "    \n",
    "    p.terminate()"
   ]
  },
  {
   "cell_type": "code",
   "execution_count": null,
   "metadata": {},
   "outputs": [],
   "source": []
  },
  {
   "cell_type": "code",
   "execution_count": null,
   "metadata": {
    "scrolled": true
   },
   "outputs": [],
   "source": [
    "%%time\n",
    "size = 4\n",
    "flags = ['rl']\n",
    "\n",
    "for flag in flags:\n",
    "    processes = []\n",
    "    for rank in range(size):\n",
    "        p = Process(target=init_process, args=(rank, size, flag, run))\n",
    "        p.start()\n",
    "        print(p)\n",
    "        processes.append(p)\n",
    "\n",
    "    for p in processes:\n",
    "        p.join()\n",
    "    p.terminate()"
   ]
  },
  {
   "cell_type": "code",
   "execution_count": null,
   "metadata": {},
   "outputs": [],
   "source": []
  }
 ],
 "metadata": {
  "kernelspec": {
   "display_name": "my-rdkit-env",
   "language": "python",
   "name": "my-rdkit-env"
  },
  "language_info": {
   "codemirror_mode": {
    "name": "ipython",
    "version": 3
   },
   "file_extension": ".py",
   "mimetype": "text/x-python",
   "name": "python",
   "nbconvert_exporter": "python",
   "pygments_lexer": "ipython3",
   "version": "3.6.8"
  }
 },
 "nbformat": 4,
 "nbformat_minor": 2
}
