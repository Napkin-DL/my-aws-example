{
 "cells": [
  {
   "cell_type": "code",
   "execution_count": null,
   "metadata": {},
   "outputs": [],
   "source": [
    "import gentrl\n",
    "import os\n",
    "\n",
    "import torch.distributed as dist\n",
    "from torch.multiprocessing import Pool, Process\n",
    " \n",
    "import torch.multiprocessing as mp\n",
    "# torch.cuda.set_device(3)"
   ]
  },
  {
   "cell_type": "code",
   "execution_count": null,
   "metadata": {},
   "outputs": [],
   "source": [
    "from moses.metrics import mol_passes_filters, QED, SA, logP\n",
    "from moses.metrics.utils import get_n_rings, get_mol\n",
    "\n",
    "\n",
    "def get_num_rings_6(mol):\n",
    "    r = mol.GetRingInfo()\n",
    "    return len([x for x in r.AtomRings() if len(x) > 6])\n",
    "\n",
    "\n",
    "def penalized_logP(mol_or_smiles, masked=False, default=-5):\n",
    "    mol = get_mol(mol_or_smiles)\n",
    "    if mol is None:\n",
    "        return default\n",
    "    reward = logP(mol) - SA(mol) - get_num_rings_6(mol)\n",
    "    if masked and not mol_passes_filters(mol):\n",
    "        return default\n",
    "    return reward"
   ]
  },
  {
   "cell_type": "code",
   "execution_count": null,
   "metadata": {},
   "outputs": [],
   "source": [
    "def run(rank, size, backend, flag='vae'):\n",
    "    args = {}\n",
    "    args['rank'] = rank\n",
    "    args['size'] = size\n",
    "    args['backend'] = backend\n",
    "    args['batch_size'] = 2500\n",
    "    args['num_epochs'] = 20\n",
    "    args['verbose_step'] = 50\n",
    "    args['lr'] = 1e-4\n",
    "    args['data_dir'] = '../examples/train_plogp_plogpm.csv'\n",
    "        \n",
    "    if flag == 'vae':\n",
    "        print(\"Start Training VAE\")\n",
    "        gentrl.distributed_gentrl.train_as_vaelp(args)\n",
    "        print(\"End Training VAE\")\n",
    "    elif flag == 'rl':\n",
    "        args['reward_fn'] = penalized_logP\n",
    "        args['num_iterations'] = 5000  ## 10000*200/1500 = 1350\n",
    "        args['batch_size'] = 1500\n",
    "        args['cond_lb'] = -2\n",
    "        args['cond_rb'] = 0\n",
    "        args['lr_lp'] = 1e-5\n",
    "        args['lr_dec'] = 1e-6\n",
    "        print(\"Start Training RL\")\n",
    "        gentrl.distributed_gentrl.train_as_rl(args)\n",
    "        print(\"End Training RL\")\n",
    "    \n",
    "def init_process(rank, size, flag, fn, backend='gloo'):\n",
    "    \"\"\" Initialize the distributed environment. \"\"\"\n",
    "    os.environ['MASTER_ADDR'] = '127.0.0.1'\n",
    "    os.environ['MASTER_PORT'] = '29500'\n",
    "    dist.init_process_group(backend, rank=rank, world_size=size)\n",
    "    fn(rank, size, backend, flag)"
   ]
  },
  {
   "cell_type": "code",
   "execution_count": null,
   "metadata": {},
   "outputs": [],
   "source": [
    "df = pd.read_csv('dataset_v1.csv')\n",
    "df = df[df['SPLIT'] == 'train']\n",
    "df['plogP'] = df['SMILES'].apply(penalized_logP)\n",
    "df.to_csv('train_plogp_plogpm.csv', index=None)"
   ]
  },
  {
   "cell_type": "code",
   "execution_count": null,
   "metadata": {},
   "outputs": [],
   "source": [
    "enc = gentrl.RNNEncoder(latent_size=50)\n",
    "dec = gentrl.DilConvDecoder(latent_input_size=50)\n",
    "model = gentrl.GENTRL(enc, dec, 50 * [('c', 20)], [('c', 20)], beta=0.001)\n",
    "model.cuda();"
   ]
  },
  {
   "cell_type": "code",
   "execution_count": null,
   "metadata": {},
   "outputs": [],
   "source": [
    "md = gentrl.MolecularDataset(sources=[\n",
    "    {'path':'train_plogp_plogpm.csv',\n",
    "     'smiles': 'SMILES',\n",
    "     'prob': 1,\n",
    "     'plogP' : 'plogP',\n",
    "    }], \n",
    "    props=['plogP'])\n",
    "\n",
    "from torch.utils.data import DataLoader\n",
    "train_loader = DataLoader(md, batch_size=50, shuffle=True, num_workers=1, drop_last=True)"
   ]
  },
  {
   "cell_type": "code",
   "execution_count": null,
   "metadata": {},
   "outputs": [],
   "source": [
    "model.train_as_vaelp(train_loader, lr=1e-4)"
   ]
  },
  {
   "cell_type": "code",
   "execution_count": null,
   "metadata": {},
   "outputs": [],
   "source": [
    "! mkdir -p saved_gentrl"
   ]
  },
  {
   "cell_type": "code",
   "execution_count": null,
   "metadata": {},
   "outputs": [],
   "source": [
    "model.save('./saved_gentrl/')"
   ]
  }
 ],
 "metadata": {
  "kernelspec": {
   "display_name": "Python 3",
   "language": "python",
   "name": "python3"
  },
  "language_info": {
   "codemirror_mode": {
    "name": "ipython",
    "version": 3
   },
   "file_extension": ".py",
   "mimetype": "text/x-python",
   "name": "python",
   "nbconvert_exporter": "python",
   "pygments_lexer": "ipython3",
   "version": "3.6.7"
  }
 },
 "nbformat": 4,
 "nbformat_minor": 2
}